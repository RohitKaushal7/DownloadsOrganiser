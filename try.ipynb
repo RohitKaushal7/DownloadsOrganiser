{
 "nbformat": 4,
 "nbformat_minor": 2,
 "metadata": {
  "language_info": {
   "name": "python",
   "codemirror_mode": {
    "name": "ipython",
    "version": 3
   },
   "version": "3.7.6-final"
  },
  "orig_nbformat": 2,
  "file_extension": ".py",
  "mimetype": "text/x-python",
  "name": "python",
  "npconvert_exporter": "python",
  "pygments_lexer": "ipython3",
  "version": 3,
  "kernelspec": {
   "name": "python37664bit1d7ef2e8cff042f78a509e385ee1219d",
   "display_name": "Python 3.7.6 64-bit"
  }
 },
 "cells": [
  {
   "cell_type": "code",
   "execution_count": 1,
   "metadata": {},
   "outputs": [],
   "source": [
    "import shutil\n",
    "import os"
   ]
  },
  {
   "cell_type": "code",
   "execution_count": 44,
   "metadata": {},
   "outputs": [],
   "source": [
    "path = \"C:\\\\Users\\\\kashp\\\\Downloads\""
   ]
  },
  {
   "cell_type": "code",
   "execution_count": 67,
   "metadata": {},
   "outputs": [
    {
     "output_type": "stream",
     "name": "stdout",
     "text": "['audio', 'config', 'docs', 'Dragon Ball Z - Kakarot [FitGirl Repack]', 'executable', 'image', 'kali.iso', 'offlineaadhaar20200221105313945.zip', 'others', 'PopcornTime', 'SHAREit', 'VirtualBoxSDK-6.0.18-136238.zip', 'VPNBook.com-OpenVPN-FR8.zip', 'VPNBook.com-OpenVPN-US1.zip']\n"
    }
   ],
   "source": [
    "filelist = os.listdir(path)\n",
    "print(filelist)"
   ]
  },
  {
   "cell_type": "code",
   "execution_count": 69,
   "metadata": {},
   "outputs": [],
   "source": [
    "types = [\"video\",\"audio\",\"executable\",\"docs\",\"image\",\"compressed\",\"iso\",\"torrent\"]\n",
    "extensions = {\"video\":tuple([\"mp4\",\"avi\",\"3gp\"]),\"audio\":tuple([\"mp3\",\"wav\"]),\"executable\":tuple([\"exe\",\"sh\",\"msi\"]),\"docs\":tuple([\"pdf\",\"ppt\",\"pptx\",\"doc\",\"docx\",\"csv\"]),\"image\":tuple([\"jpg\",\"png\",\"jpeg\"]),\"compressed\":tuple([\"zip\",\"rar\"]),\"iso\":tuple([\"iso\"]),\"torrent\":tuple([\"torrent\"])}"
   ]
  },
  {
   "cell_type": "code",
   "execution_count": 68,
   "metadata": {},
   "outputs": [],
   "source": [
    "for file_ in filelist:\n",
    "    name,ext = os.path.splitext(file_)\n",
    "    ext = ext[1:]\n",
    "    if ext ==\"\":\n",
    "        continue\n",
    "    for t in types:\n",
    "        if ext in extensions[t]:\n",
    "            if os.path.exists(path+\"\\\\\"+t):\n",
    "                shutil.move(path+'\\\\'+file_,path+\"\\\\\"+t) \n",
    "            else:\n",
    "                os.makedirs(path+\"\\\\\"+t)\n",
    "                shutil.move(path+'\\\\'+file_,path+\"\\\\\"+t)  \n",
    "            break\n",
    "   \n",
    "        "
   ]
  },
  {
   "cell_type": "code",
   "execution_count": 49,
   "metadata": {},
   "outputs": [],
   "source": [
    "for file_ in filelist:\n",
    "    name,ext = os.path.splitext(file_)\n",
    "    ext = ext[1:]\n",
    "    if ext ==\"\":\n",
    "        continue\n",
    "    if os.path.exists(path+\"\\\\others\"):\n",
    "        shutil.move(path+'\\\\'+file_,path+\"\\\\others\") \n",
    "    else:\n",
    "        os.makedirs(path+\"\\\\others\")\n",
    "        shutil.move(path+'\\\\'+file_,path+\"\\\\others\")             "
   ]
  },
  {
   "cell_type": "code",
   "execution_count": null,
   "metadata": {},
   "outputs": [],
   "source": []
  }
 ]
}